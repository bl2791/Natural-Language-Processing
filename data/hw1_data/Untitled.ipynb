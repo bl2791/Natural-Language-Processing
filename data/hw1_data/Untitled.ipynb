{
 "cells": [
  {
   "cell_type": "code",
   "execution_count": 16,
   "metadata": {},
   "outputs": [],
   "source": [
    "import copy\n",
    "def get_ngrams(sequence, n):\n",
    "    \"\"\"\n",
    "    COMPLETE THIS FUNCTION (PART 1)\n",
    "    Given a sequence, this function should return a list of n-grams, where each n-gram is a Python tuple.\n",
    "    This should work for arbitrary values of 1 <= n < len(sequence).\n",
    "    \"\"\"\n",
    "    sequence1 = copy.deepcopy(sequence)\n",
    "    sequence1.append('STOP')\n",
    "    if n == 1:\n",
    "        sequence1.insert(0, 'START')\n",
    "    else: \n",
    "        for i in range(n - 1):\n",
    "            sequence1.insert(0, 'START')\n",
    "    \n",
    "    padded_ngrams = []\n",
    "    for i in range(len(sequence1)):\n",
    "        if i + 1 - n >= 0:\n",
    "            if n == 1:\n",
    "                padded_ngrams.append(tuple(sequence1[i+1-n: i+1],))\n",
    "            else:\n",
    "                padded_ngrams.append(tuple(sequence1[i+1-n: i+1]))\n",
    "        \n",
    "        \n",
    "    return padded_ngrams"
   ]
  },
  {
   "cell_type": "code",
   "execution_count": 17,
   "metadata": {},
   "outputs": [
    {
     "data": {
      "text/plain": [
       "[('START', 'START', 1), ('START', 1, 2), (1, 2, 3), (2, 3, 'STOP')]"
      ]
     },
     "execution_count": 17,
     "metadata": {},
     "output_type": "execute_result"
    }
   ],
   "source": [
    "sequence = [1, 2, 3]\n",
    "get_ngrams(sequence, 3)"
   ]
  },
  {
   "cell_type": "code",
   "execution_count": 18,
   "metadata": {},
   "outputs": [
    {
     "name": "stdout",
     "output_type": "stream",
     "text": [
      "[1, 2, 3]\n",
      "[1, 2, 3]\n",
      "[1, 2, 3]\n",
      "[1, 2, 3]\n",
      "[3, 7, 4]\n",
      "[3, 7, 4]\n",
      "[3, 7, 4]\n",
      "[3, 7, 4]\n"
     ]
    }
   ],
   "source": [
    "\n",
    "from collections import defaultdict\n",
    "unigramcounts = defaultdict(int) # might want to use defaultdict or Counter inste\n",
    "bigramcounts = defaultdict(int) \n",
    "trigramcounts = defaultdict(int)\n",
    "\n",
    "corpus = [[1, 2, 3], [3, 7, 4]]\n",
    "\n",
    "for sentence in corpus:\n",
    "    for unigram in get_ngrams(sentence, 1):\n",
    "        unigramcounts[unigram] += 1\n",
    "    for bigram in get_ngrams(sentence, 2):\n",
    "        print(sentence)\n",
    "        bigramcounts[bigram] += 1\n",
    "    for trigram in get_ngrams(sentence, 3):    \n",
    "        trigramcounts[trigram] += 1"
   ]
  },
  {
   "cell_type": "code",
   "execution_count": 19,
   "metadata": {},
   "outputs": [
    {
     "data": {
      "text/plain": [
       "defaultdict(int,\n",
       "            {('START', 1): 1,\n",
       "             (1, 2): 1,\n",
       "             (2, 3): 1,\n",
       "             (3, 'STOP'): 1,\n",
       "             ('START', 3): 1,\n",
       "             (3, 7): 1,\n",
       "             (7, 4): 1,\n",
       "             (4, 'STOP'): 1})"
      ]
     },
     "execution_count": 19,
     "metadata": {},
     "output_type": "execute_result"
    }
   ],
   "source": [
    "bigramcounts"
   ]
  },
  {
   "cell_type": "code",
   "execution_count": null,
   "metadata": {},
   "outputs": [],
   "source": []
  }
 ],
 "metadata": {
  "kernelspec": {
   "display_name": "Python 3",
   "language": "python",
   "name": "python3"
  },
  "language_info": {
   "codemirror_mode": {
    "name": "ipython",
    "version": 3
   },
   "file_extension": ".py",
   "mimetype": "text/x-python",
   "name": "python",
   "nbconvert_exporter": "python",
   "pygments_lexer": "ipython3",
   "version": "3.7.4"
  }
 },
 "nbformat": 4,
 "nbformat_minor": 2
}
